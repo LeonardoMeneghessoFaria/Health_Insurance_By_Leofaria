{
 "cells": [
  {
   "cell_type": "markdown",
   "metadata": {},
   "source": [
    "# 0.0. IMPORTS"
   ]
  },
  {
   "cell_type": "code",
   "execution_count": 1,
   "metadata": {
    "ExecuteTime": {
     "end_time": "2021-09-10T14:42:29.797353Z",
     "start_time": "2021-09-10T14:42:27.947883Z"
    }
   },
   "outputs": [],
   "source": [
    "import math\n",
    "import pandas.io.sql as psql\n",
    "import psycopg2 as pg\n",
    "#import requests\n",
    "#import pickle\n",
    "import numpy   as np\n",
    "import pandas  as pd\n",
    "#import inflection\n",
    "import seaborn as sns\n",
    "#import xgboost as xgb\n",
    "#import random\n",
    "import warnings\n",
    "warnings.filterwarnings( 'ignore' )\n",
    "\n",
    "#from sklearn.preprocessing import RobustScaler, MinMaxScaler, LabelEncoder\n",
    "#from tabulate              import tabulate\n",
    "from scipy                 import stats  as ss\n",
    "from matplotlib            import pyplot as plt\n",
    "from IPython.display       import Image\n",
    "from IPython.core.display  import HTML\n",
    "#from boruta                import BorutaPy\n",
    "#from sklearn.ensemble      import RandomForestRegressor\n",
    "#from sklearn.metrics       import mean_absolute_error, mean_squared_error\n",
    "#from sklearn.linear_model  import LinearRegression, Lasso\n",
    "#from flask                 import Flask, request, Response\n"
   ]
  },
  {
   "cell_type": "markdown",
   "metadata": {
    "heading_collapsed": true
   },
   "source": [
    "## 0.1. Helper Functions"
   ]
  },
  {
   "cell_type": "code",
   "execution_count": 2,
   "metadata": {
    "ExecuteTime": {
     "end_time": "2021-09-10T14:42:29.828020Z",
     "start_time": "2021-09-10T14:42:29.800899Z"
    },
    "hidden": true
   },
   "outputs": [],
   "source": [
    "#def cross_validation( x_training, kfold, model_name, model, verbose = False ) :\n",
    "#    mae_list = []\n",
    "#    mape_list = []\n",
    "#    rmse_list = []\n",
    "#    \n",
    "#    \n",
    "#    for k in reversed( range( 1, kfold+1 ) ):\n",
    "#        if verbose:\n",
    "#            print('\\nKFold Number: {}'.format (k))\n",
    "#        # Start and End date for validation\n",
    "#        validation_start_date = x_training['date'].max() - datetime.timedelta( days=k*6*7)\n",
    "#        validation_end_date = x_training['date'].max() - datetime.timedelta( days=(k-1)*6*7)\n",
    "#        \n",
    "#        # Filtering Dataset\n",
    "#        training = x_training[x_training['date'] < validation_start_date]\n",
    "#        validation = x_training[(x_training['date'] >= validation_start_date) & (x_training['date'] <= validation_end_date)]\n",
    "#        \n",
    "#        # training and validation dataset\n",
    "#        # training\n",
    "#        xtraining = training.drop(['date','sales'], axis = 1)\n",
    "#        ytraining = training['sales']\n",
    "#        \n",
    "#        # validation\n",
    "#        xvalidation = validation.drop(['date','sales'], axis = 1)\n",
    "#        yvalidation = validation['sales']\n",
    "#        \n",
    "#        \n",
    "#        # Model\n",
    "#        m = model.fit(xtraining, ytraining)\n",
    "#        \n",
    "#        \n",
    "#        # Prediction\n",
    "#        yhat = m.predict(xvalidation)\n",
    "#        \n",
    "#        \n",
    "#        \n",
    "#        # Performance\n",
    "#        m_result = ml_error( model_name, np.expm1( yvalidation ), np.expm1( yhat ) )\n",
    "#        \n",
    "#        # store performance of each kfold iteration\n",
    "#        mae_list.append (m_result['MAE'])\n",
    "#        mape_list.append (m_result['MAPE'])\n",
    "#        rmse_list.append (m_result['RMSE'])\n",
    "#        \n",
    "#    return pd.DataFrame({'Model Name': model_name,\n",
    "#                         'MAE CV': np.round( np.mean( mae_list ), 2 ).astype( str ) + ' +/- ' + np.round( np.std( mae_list ), 2 ).astype( str ),\n",
    "#                         'MAPE CV': np.round( np.mean( mape_list ), 2 ).astype( str ) + ' +/- ' + np.round( np.std( mape_list ), 2 ).astype( str ),\n",
    "#                         'RMSE CV': np.round( np.mean( rmse_list ), 2 ).astype( str ) + ' +/- ' + np.round( np.std( rmse_list ), 2 ).astype( str ) }, index = [0] )\n",
    "\n",
    "def jupyter_settings():\n",
    "    %matplotlib inline\n",
    "    %pylab inline\n",
    "    \n",
    "    plt.style.use( 'bmh' )\n",
    "    plt.rcParams['figure.figsize'] = [25, 12]\n",
    "    plt.rcParams['font.size'] = 24\n",
    "    \n",
    "    display( HTML( '<style>.container { width:100% !important; }</style>') )\n",
    "    pd.options.display.max_columns = None\n",
    "    pd.options.display.max_rows = None\n",
    "    pd.set_option( 'display.expand_frame_repr', False )\n",
    "    \n",
    "    sns.set()\n",
    "    \n",
    "\n",
    "#def cramer_v( x, y):\n",
    "#    cm = pd.crosstab( x, y ).values\n",
    "#    n = cm.sum()\n",
    "#    r,k = cm.shape\n",
    "#    \n",
    "#    chi2 = ss.chi2_contingency(cm)[0]\n",
    "#    chi2corr = max( 0, chi2 - (k-1)*(r-1)/(n-1) )\n",
    "#    \n",
    "#    kcorr = k - (k-1)**2/(n-1)\n",
    "#    rcorr = r - (r-1)**2/(n-1)\n",
    "#    \n",
    "#    return np.sqrt( (chi2corr/n) / (min(kcorr-1, rcorr-1) ) )\n",
    "#\n",
    "#def mean_percentage_error( y,yhat ):\n",
    "#    return np.mean( ( y-yhat ) / y  )\n",
    "#\n",
    "#def mean_absolute_percentage_error( y,yhat ):\n",
    "#    return np.mean(np.abs( ( y-yhat )/y ) )\n",
    "#\n",
    "#\n",
    "#def ml_error(model_name, y, yhat):\n",
    "#    mae = mean_absolute_error(y,yhat)\n",
    "#    mape = mean_absolute_percentage_error(y,yhat)\n",
    "#    rmse = np.sqrt(mean_squared_error(y,yhat))\n",
    "#    \n",
    "#    return pd.DataFrame ({'Model Name': model_name,\n",
    "#                          'MAE': mae,\n",
    "#                          'MAPE': mape,\n",
    "#                          'RMSE': rmse}, index = [0])\n",
    "#"
   ]
  },
  {
   "cell_type": "code",
   "execution_count": 3,
   "metadata": {
    "ExecuteTime": {
     "end_time": "2021-09-10T14:42:29.860012Z",
     "start_time": "2021-09-10T14:42:29.830064Z"
    },
    "hidden": true
   },
   "outputs": [
    {
     "name": "stdout",
     "output_type": "stream",
     "text": [
      "Populating the interactive namespace from numpy and matplotlib\n"
     ]
    },
    {
     "data": {
      "text/html": [
       "<style>.container { width:100% !important; }</style>"
      ],
      "text/plain": [
       "<IPython.core.display.HTML object>"
      ]
     },
     "metadata": {},
     "output_type": "display_data"
    }
   ],
   "source": [
    "jupyter_settings()"
   ]
  },
  {
   "cell_type": "markdown",
   "metadata": {},
   "source": [
    "## 0.2. Loading data"
   ]
  },
  {
   "cell_type": "code",
   "execution_count": 4,
   "metadata": {
    "ExecuteTime": {
     "end_time": "2021-09-10T14:42:29.876103Z",
     "start_time": "2021-09-10T14:42:29.862982Z"
    }
   },
   "outputs": [],
   "source": [
    "# Credentials\n",
    "host = 'comunidade-ds-postgres.c50pcakiuwi3.us-east-1.rds.amazonaws.com' \n",
    "port = 5432 \n",
    "database = 'comunidadedsdb' \n",
    "user = 'member' \n",
    "password ='cdspa' "
   ]
  },
  {
   "cell_type": "code",
   "execution_count": 5,
   "metadata": {
    "ExecuteTime": {
     "end_time": "2021-09-10T14:42:30.982465Z",
     "start_time": "2021-09-10T14:42:29.880093Z"
    }
   },
   "outputs": [],
   "source": [
    "# Connect with Postgres\n",
    "\n",
    "conn = pg.connect( user=user,\n",
    "                   password=password,\n",
    "                   host=host,\n",
    "                   port=port,\n",
    "                   database=database)\n"
   ]
  },
  {
   "cell_type": "markdown",
   "metadata": {},
   "source": [
    "### 0.2.1. Schema Query"
   ]
  },
  {
   "cell_type": "code",
   "execution_count": 15,
   "metadata": {
    "ExecuteTime": {
     "end_time": "2021-09-10T12:36:37.681957Z",
     "start_time": "2021-09-10T12:36:37.315166Z"
    }
   },
   "outputs": [
    {
     "name": "stdout",
     "output_type": "stream",
     "text": [
      "[('pg_toast',), ('pg_temp_1',), ('pg_toast_temp_1',), ('pg_catalog',), ('information_schema',), ('public',), ('pa004',), ('pg_temp_4',), ('pg_toast_temp_4',), ('pa005',), ('pg_temp_9',), ('pg_toast_temp_9',)]\n"
     ]
    }
   ],
   "source": [
    "# Cursor\n",
    "cursor = conn.cursor()\n",
    "\n",
    "# Query Schema\n",
    "query_schema = \"\"\"\n",
    "    SELECT nspname\n",
    "    FROM pg_catalog.pg_namespace\n",
    "\"\"\"\n",
    "\n",
    "cursor.execute( query_schema )\n",
    "\n",
    "record = cursor.fetchall()\n",
    "print( record )\n",
    "\n",
    "# Close cursor\n",
    "cursor.close()\n",
    "\n",
    "# Close Connection\n",
    "conn.close()"
   ]
  },
  {
   "cell_type": "markdown",
   "metadata": {},
   "source": [
    "### 0.2.2. Table Query"
   ]
  },
  {
   "cell_type": "code",
   "execution_count": 17,
   "metadata": {
    "ExecuteTime": {
     "end_time": "2021-09-10T12:36:47.919950Z",
     "start_time": "2021-09-10T12:36:47.584095Z"
    }
   },
   "outputs": [
    {
     "name": "stdout",
     "output_type": "stream",
     "text": [
      "[('users',), ('vehicle',), ('insurance',)]\n"
     ]
    }
   ],
   "source": [
    "# Cursor\n",
    "cursor = conn.cursor()\n",
    "\n",
    "# Query Tables\n",
    "query_tables = \"\"\"\n",
    "    SELECT tablename\n",
    "    FROM pg_tables\n",
    "    WHERE schemaname= 'pa004'\n",
    "\"\"\"\n",
    "\n",
    "cursor.execute( query_tables )\n",
    "\n",
    "record = cursor.fetchall()\n",
    "print( record )\n",
    "\n",
    "# Close cursor\n",
    "cursor.close()\n",
    "\n",
    "# Close Connection\n",
    "conn.close()"
   ]
  },
  {
   "cell_type": "markdown",
   "metadata": {},
   "source": [
    "### 0.2.3. Collect Data using Psycopg2"
   ]
  },
  {
   "cell_type": "code",
   "execution_count": null,
   "metadata": {},
   "outputs": [],
   "source": [
    "## Cursor\n",
    "#cursor = conn.cursor()\n",
    "#\n",
    "## Query Tables\n",
    "#query_tables_users = \"\"\"\n",
    "#    SELECT *\n",
    "#    FROM pa004.users u\n",
    "#    WHERE u.age > 44\n",
    "#    LIMIT 10\n",
    "#\"\"\"\n",
    "#\n",
    "#cursor.execute( query_tables_users )\n",
    "#\n",
    "#record = cursor.fetchall()\n",
    "#print( record )\n",
    "#\n",
    "## Close cursor\n",
    "#cursor.close()\n",
    "#\n",
    "## Close Connection\n",
    "#conn.close()"
   ]
  },
  {
   "cell_type": "code",
   "execution_count": null,
   "metadata": {},
   "outputs": [],
   "source": [
    "#pd.DataFrame( record )\n",
    "#data.columns = ['']\n",
    "#data.head()"
   ]
  },
  {
   "cell_type": "markdown",
   "metadata": {},
   "source": [
    "### 0.2.4. Collect Data using Pandas"
   ]
  },
  {
   "cell_type": "code",
   "execution_count": 6,
   "metadata": {
    "ExecuteTime": {
     "end_time": "2021-09-10T14:46:00.211374Z",
     "start_time": "2021-09-10T14:42:45.016519Z"
    }
   },
   "outputs": [],
   "source": [
    "# Query Tables\n",
    "query_tables = \"\"\"\n",
    "    SELECT *\n",
    "    FROM pa004.users u LEFT JOIN pa004.vehicle  v ON ( u.id = v.id )\n",
    "                       LEFT JOIN pa004.insurance i ON ( u.id = i.id )\n",
    "    WHERE u.age > 17\n",
    "\"\"\"\n",
    "df1 = pd.read_sql( query_tables, conn )"
   ]
  },
  {
   "cell_type": "code",
   "execution_count": 7,
   "metadata": {
    "ExecuteTime": {
     "end_time": "2021-09-10T14:46:00.259175Z",
     "start_time": "2021-09-10T14:46:00.213407Z"
    }
   },
   "outputs": [],
   "source": [
    "df2 = df1.copy()"
   ]
  },
  {
   "cell_type": "code",
   "execution_count": 8,
   "metadata": {
    "ExecuteTime": {
     "end_time": "2021-09-10T14:46:00.290675Z",
     "start_time": "2021-09-10T14:46:00.261094Z"
    }
   },
   "outputs": [
    {
     "data": {
      "text/html": [
       "<div>\n",
       "<style scoped>\n",
       "    .dataframe tbody tr th:only-of-type {\n",
       "        vertical-align: middle;\n",
       "    }\n",
       "\n",
       "    .dataframe tbody tr th {\n",
       "        vertical-align: top;\n",
       "    }\n",
       "\n",
       "    .dataframe thead th {\n",
       "        text-align: right;\n",
       "    }\n",
       "</style>\n",
       "<table border=\"1\" class=\"dataframe\">\n",
       "  <thead>\n",
       "    <tr style=\"text-align: right;\">\n",
       "      <th></th>\n",
       "      <th>id</th>\n",
       "      <th>gender</th>\n",
       "      <th>age</th>\n",
       "      <th>region_code</th>\n",
       "      <th>policy_sales_channel</th>\n",
       "      <th>id</th>\n",
       "      <th>driving_license</th>\n",
       "      <th>vehicle_age</th>\n",
       "      <th>vehicle_damage</th>\n",
       "      <th>id</th>\n",
       "      <th>previously_insured</th>\n",
       "      <th>annual_premium</th>\n",
       "      <th>vintage</th>\n",
       "      <th>response</th>\n",
       "    </tr>\n",
       "  </thead>\n",
       "  <tbody>\n",
       "    <tr>\n",
       "      <th>0</th>\n",
       "      <td>7</td>\n",
       "      <td>Male</td>\n",
       "      <td>23</td>\n",
       "      <td>11.0</td>\n",
       "      <td>152.0</td>\n",
       "      <td>7</td>\n",
       "      <td>1</td>\n",
       "      <td>&lt; 1 Year</td>\n",
       "      <td>Yes</td>\n",
       "      <td>7</td>\n",
       "      <td>0</td>\n",
       "      <td>23367.0</td>\n",
       "      <td>249</td>\n",
       "      <td>0</td>\n",
       "    </tr>\n",
       "    <tr>\n",
       "      <th>1</th>\n",
       "      <td>13</td>\n",
       "      <td>Female</td>\n",
       "      <td>41</td>\n",
       "      <td>15.0</td>\n",
       "      <td>14.0</td>\n",
       "      <td>13</td>\n",
       "      <td>1</td>\n",
       "      <td>1-2 Year</td>\n",
       "      <td>No</td>\n",
       "      <td>13</td>\n",
       "      <td>1</td>\n",
       "      <td>31409.0</td>\n",
       "      <td>221</td>\n",
       "      <td>0</td>\n",
       "    </tr>\n",
       "    <tr>\n",
       "      <th>2</th>\n",
       "      <td>18</td>\n",
       "      <td>Female</td>\n",
       "      <td>25</td>\n",
       "      <td>35.0</td>\n",
       "      <td>152.0</td>\n",
       "      <td>18</td>\n",
       "      <td>1</td>\n",
       "      <td>&lt; 1 Year</td>\n",
       "      <td>No</td>\n",
       "      <td>18</td>\n",
       "      <td>1</td>\n",
       "      <td>46622.0</td>\n",
       "      <td>299</td>\n",
       "      <td>0</td>\n",
       "    </tr>\n",
       "    <tr>\n",
       "      <th>3</th>\n",
       "      <td>31</td>\n",
       "      <td>Female</td>\n",
       "      <td>26</td>\n",
       "      <td>8.0</td>\n",
       "      <td>160.0</td>\n",
       "      <td>31</td>\n",
       "      <td>1</td>\n",
       "      <td>&lt; 1 Year</td>\n",
       "      <td>No</td>\n",
       "      <td>31</td>\n",
       "      <td>0</td>\n",
       "      <td>2630.0</td>\n",
       "      <td>136</td>\n",
       "      <td>0</td>\n",
       "    </tr>\n",
       "    <tr>\n",
       "      <th>4</th>\n",
       "      <td>39</td>\n",
       "      <td>Male</td>\n",
       "      <td>45</td>\n",
       "      <td>8.0</td>\n",
       "      <td>124.0</td>\n",
       "      <td>39</td>\n",
       "      <td>1</td>\n",
       "      <td>1-2 Year</td>\n",
       "      <td>Yes</td>\n",
       "      <td>39</td>\n",
       "      <td>0</td>\n",
       "      <td>42297.0</td>\n",
       "      <td>264</td>\n",
       "      <td>0</td>\n",
       "    </tr>\n",
       "  </tbody>\n",
       "</table>\n",
       "</div>"
      ],
      "text/plain": [
       "   id  gender  age  region_code  policy_sales_channel  id  driving_license vehicle_age vehicle_damage  id  previously_insured  annual_premium  vintage  response\n",
       "0   7    Male   23         11.0                 152.0   7                1    < 1 Year            Yes   7                   0         23367.0      249         0\n",
       "1  13  Female   41         15.0                  14.0  13                1    1-2 Year             No  13                   1         31409.0      221         0\n",
       "2  18  Female   25         35.0                 152.0  18                1    < 1 Year             No  18                   1         46622.0      299         0\n",
       "3  31  Female   26          8.0                 160.0  31                1    < 1 Year             No  31                   0          2630.0      136         0\n",
       "4  39    Male   45          8.0                 124.0  39                1    1-2 Year            Yes  39                   0         42297.0      264         0"
      ]
     },
     "execution_count": 8,
     "metadata": {},
     "output_type": "execute_result"
    }
   ],
   "source": [
    "df2.head()"
   ]
  },
  {
   "cell_type": "code",
   "execution_count": 11,
   "metadata": {
    "ExecuteTime": {
     "end_time": "2021-09-10T14:46:37.093449Z",
     "start_time": "2021-09-10T14:46:36.954820Z"
    }
   },
   "outputs": [
    {
     "data": {
      "text/html": [
       "<div>\n",
       "<style scoped>\n",
       "    .dataframe tbody tr th:only-of-type {\n",
       "        vertical-align: middle;\n",
       "    }\n",
       "\n",
       "    .dataframe tbody tr th {\n",
       "        vertical-align: top;\n",
       "    }\n",
       "\n",
       "    .dataframe thead th {\n",
       "        text-align: right;\n",
       "    }\n",
       "</style>\n",
       "<table border=\"1\" class=\"dataframe\">\n",
       "  <thead>\n",
       "    <tr style=\"text-align: right;\">\n",
       "      <th></th>\n",
       "      <th>id</th>\n",
       "      <th>gender</th>\n",
       "      <th>age</th>\n",
       "      <th>region_code</th>\n",
       "      <th>policy_sales_channel</th>\n",
       "      <th>driving_license</th>\n",
       "      <th>vehicle_age</th>\n",
       "      <th>vehicle_damage</th>\n",
       "      <th>previously_insured</th>\n",
       "      <th>annual_premium</th>\n",
       "      <th>vintage</th>\n",
       "      <th>response</th>\n",
       "    </tr>\n",
       "  </thead>\n",
       "  <tbody>\n",
       "    <tr>\n",
       "      <th>0</th>\n",
       "      <td>0</td>\n",
       "      <td>Male</td>\n",
       "      <td>23</td>\n",
       "      <td>11.0</td>\n",
       "      <td>152.0</td>\n",
       "      <td>1</td>\n",
       "      <td>&lt; 1 Year</td>\n",
       "      <td>Yes</td>\n",
       "      <td>0</td>\n",
       "      <td>23367.0</td>\n",
       "      <td>249</td>\n",
       "      <td>0</td>\n",
       "    </tr>\n",
       "    <tr>\n",
       "      <th>1</th>\n",
       "      <td>1</td>\n",
       "      <td>Female</td>\n",
       "      <td>41</td>\n",
       "      <td>15.0</td>\n",
       "      <td>14.0</td>\n",
       "      <td>1</td>\n",
       "      <td>1-2 Year</td>\n",
       "      <td>No</td>\n",
       "      <td>1</td>\n",
       "      <td>31409.0</td>\n",
       "      <td>221</td>\n",
       "      <td>0</td>\n",
       "    </tr>\n",
       "    <tr>\n",
       "      <th>2</th>\n",
       "      <td>2</td>\n",
       "      <td>Female</td>\n",
       "      <td>25</td>\n",
       "      <td>35.0</td>\n",
       "      <td>152.0</td>\n",
       "      <td>1</td>\n",
       "      <td>&lt; 1 Year</td>\n",
       "      <td>No</td>\n",
       "      <td>1</td>\n",
       "      <td>46622.0</td>\n",
       "      <td>299</td>\n",
       "      <td>0</td>\n",
       "    </tr>\n",
       "    <tr>\n",
       "      <th>3</th>\n",
       "      <td>3</td>\n",
       "      <td>Female</td>\n",
       "      <td>26</td>\n",
       "      <td>8.0</td>\n",
       "      <td>160.0</td>\n",
       "      <td>1</td>\n",
       "      <td>&lt; 1 Year</td>\n",
       "      <td>No</td>\n",
       "      <td>0</td>\n",
       "      <td>2630.0</td>\n",
       "      <td>136</td>\n",
       "      <td>0</td>\n",
       "    </tr>\n",
       "    <tr>\n",
       "      <th>4</th>\n",
       "      <td>4</td>\n",
       "      <td>Male</td>\n",
       "      <td>45</td>\n",
       "      <td>8.0</td>\n",
       "      <td>124.0</td>\n",
       "      <td>1</td>\n",
       "      <td>1-2 Year</td>\n",
       "      <td>Yes</td>\n",
       "      <td>0</td>\n",
       "      <td>42297.0</td>\n",
       "      <td>264</td>\n",
       "      <td>0</td>\n",
       "    </tr>\n",
       "  </tbody>\n",
       "</table>\n",
       "</div>"
      ],
      "text/plain": [
       "   id  gender  age  region_code  policy_sales_channel  driving_license vehicle_age vehicle_damage  previously_insured  annual_premium  vintage  response\n",
       "0   0    Male   23         11.0                 152.0                1    < 1 Year            Yes                   0         23367.0      249         0\n",
       "1   1  Female   41         15.0                  14.0                1    1-2 Year             No                   1         31409.0      221         0\n",
       "2   2  Female   25         35.0                 152.0                1    < 1 Year             No                   1         46622.0      299         0\n",
       "3   3  Female   26          8.0                 160.0                1    < 1 Year             No                   0          2630.0      136         0\n",
       "4   4    Male   45          8.0                 124.0                1    1-2 Year            Yes                   0         42297.0      264         0"
      ]
     },
     "execution_count": 11,
     "metadata": {},
     "output_type": "execute_result"
    }
   ],
   "source": [
    "df3 = df2.drop( df2.columns[[5,9]], axis = 1).reset_index()\n",
    "df3 = df3.rename(columns={'index': 'id'})\n",
    "\n",
    "df3.head()"
   ]
  },
  {
   "cell_type": "code",
   "execution_count": 12,
   "metadata": {
    "ExecuteTime": {
     "end_time": "2021-09-10T14:46:37.141321Z",
     "start_time": "2021-09-10T14:46:37.098438Z"
    }
   },
   "outputs": [],
   "source": [
    "df_raw = df3.copy()"
   ]
  },
  {
   "cell_type": "code",
   "execution_count": 19,
   "metadata": {
    "ExecuteTime": {
     "end_time": "2021-09-10T15:16:41.689835Z",
     "start_time": "2021-09-10T15:16:39.365843Z"
    }
   },
   "outputs": [],
   "source": [
    "df_raw.to_csv('C:/Users/leonardo.faria/repos/health-insurance-by-leofaria/datasets/insurance_all_database.csv', index=False)"
   ]
  },
  {
   "cell_type": "code",
   "execution_count": 45,
   "metadata": {
    "ExecuteTime": {
     "end_time": "2021-09-10T14:24:36.661856Z",
     "start_time": "2021-09-10T14:24:36.650886Z"
    }
   },
   "outputs": [],
   "source": [
    "# Close Connection\n",
    "conn.close()"
   ]
  }
 ],
 "metadata": {
  "kernelspec": {
   "display_name": "Python 3 (ipykernel)",
   "language": "python",
   "name": "python3"
  },
  "language_info": {
   "codemirror_mode": {
    "name": "ipython",
    "version": 3
   },
   "file_extension": ".py",
   "mimetype": "text/x-python",
   "name": "python",
   "nbconvert_exporter": "python",
   "pygments_lexer": "ipython3",
   "version": "3.8.12"
  },
  "toc": {
   "base_numbering": 1,
   "nav_menu": {},
   "number_sections": false,
   "sideBar": true,
   "skip_h1_title": false,
   "title_cell": "Table of Contents",
   "title_sidebar": "Contents",
   "toc_cell": false,
   "toc_position": {
    "height": "calc(100% - 180px)",
    "left": "10px",
    "top": "150px",
    "width": "165px"
   },
   "toc_section_display": true,
   "toc_window_display": true
  },
  "varInspector": {
   "cols": {
    "lenName": 16,
    "lenType": 16,
    "lenVar": 40
   },
   "kernels_config": {
    "python": {
     "delete_cmd_postfix": "",
     "delete_cmd_prefix": "del ",
     "library": "var_list.py",
     "varRefreshCmd": "print(var_dic_list())"
    },
    "r": {
     "delete_cmd_postfix": ") ",
     "delete_cmd_prefix": "rm(",
     "library": "var_list.r",
     "varRefreshCmd": "cat(var_dic_list()) "
    }
   },
   "types_to_exclude": [
    "module",
    "function",
    "builtin_function_or_method",
    "instance",
    "_Feature"
   ],
   "window_display": false
  }
 },
 "nbformat": 4,
 "nbformat_minor": 2
}
